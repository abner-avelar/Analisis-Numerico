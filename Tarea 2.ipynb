{
 "cells": [
  {
   "cell_type": "markdown",
   "id": "28eced69",
   "metadata": {},
   "source": [
    "Intersección de trayectorias.\n",
    "\n",
    "Tres objetos se mueven de tal manera que sus trayectorias son:"
   ]
  },
  {
   "cell_type": "markdown",
   "id": "37e75c69",
   "metadata": {},
   "source": [
    "$$2x-y+3z=24$$\n",
    "$$2y-z=14$$\n",
    "$$7x-5y=6$$"
   ]
  },
  {
   "cell_type": "markdown",
   "id": "d789706f",
   "metadata": {},
   "source": [
    "Encontrar su punto de interseccion:"
   ]
  },
  {
   "cell_type": "code",
   "execution_count": 14,
   "id": "8ecb6c15",
   "metadata": {},
   "outputs": [
    {
     "name": "stdout",
     "output_type": "stream",
     "text": [
      "Ingrese los coeficientes del sistema de ecuaciones:\n",
      "Ecuación 1:\n",
      "Coeficiente de la variable x: 2\n",
      "Coeficiente de la variable y: -1\n",
      "Coeficiente de la variable z: 3\n",
      "Término independiente: 24\n",
      "Ecuación 2:\n",
      "Coeficiente de la variable x: 0\n",
      "Coeficiente de la variable y: 2\n",
      "Coeficiente de la variable z: -1\n",
      "Término independiente: 14\n",
      "Ecuación 3:\n",
      "Coeficiente de la variable x: 7\n",
      "Coeficiente de la variable y: -5\n",
      "Coeficiente de la variable z: 0\n",
      "Término independiente: 6\n",
      "\n",
      "Matriz inicial:\n",
      "[[ 2. -1.  3. 24.]\n",
      " [ 0.  2. -1. 14.]\n",
      " [ 7. -5.  0.  6.]]\n",
      "\n",
      "La solucion es:\n",
      "x = 8.00\n",
      "y = 10.00\n",
      "z = 6.00\n"
     ]
    }
   ],
   "source": [
    "import numpy as np\n",
    "\n",
    "\n",
    "def gauss_eliminacion():\n",
    "    print(\"Ingrese los coeficientes del sistema de ecuaciones:\")\n",
    "    n = 3\n",
    "    a = []\n",
    "    b = []\n",
    "\n",
    "    for i in range(n):\n",
    "        ecuacion = []\n",
    "        print(f\"Ecuación {i + 1}:\")\n",
    "        for j in range(n):\n",
    "            coef = float(input(f\"Coeficiente de la variable {chr(120 + j)}: \"))\n",
    "            ecuacion.append(coef)\n",
    "        a.append(ecuacion)\n",
    "        b.append(float(input(\"Término independiente: \")))\n",
    "\n",
    "    a = np.array(a)\n",
    "    b = np.array(b)\n",
    "\n",
    "    print(\"\\nMatriz inicial:\")\n",
    "    matriz_inicial = np.concatenate((a, b.reshape(-1, 1)), axis=1)\n",
    "    print(matriz_inicial)\n",
    "\n",
    "    for k in range(n - 1):\n",
    "        for i in range(k + 1, n):\n",
    "            if matriz_inicial[i, k] != 0.0:\n",
    "                factor = matriz_inicial[i, k] / matriz_inicial[k, k]\n",
    "                matriz_inicial[i] -= factor * matriz_inicial[k]\n",
    "\n",
    "    x = [0] * n\n",
    "    for i in range(n - 1, -1, -1):\n",
    "        x[i] = (matriz_inicial[i, -1] - np.dot(matriz_inicial[i, i + 1:n], x[i + 1:n])) / matriz_inicial[i, i]\n",
    "\n",
    "    print(\"\\nLa solucion es:\")\n",
    "    for i in range(n):\n",
    "        print(f\"{chr(120 + i)} = {x[i]:.2f}\")\n",
    "\n",
    "if __name__ == \"__main__\":\n",
    "    gauss_eliminacion()"
   ]
  },
  {
   "cell_type": "markdown",
   "id": "63c8e8e5",
   "metadata": {},
   "source": [
    "Carga de los quarks\n",
    "\n",
    "Los protones y neutrones están formados cada uno por tres quarks. Los protones poseen dos quarks up (u) y un quark down (d), los neutrones poseen un quark up y dos quarks down. Si la carga de un protón es igual al positivo de la carga del electrón $(+e)$\n",
    "y la carga de un neutrón es cero, determine las cargas de los quarks up y down. (Tip: suponga que $+e=1$.)\n"
   ]
  },
  {
   "cell_type": "markdown",
   "id": "120bf79f",
   "metadata": {},
   "source": [
    "Primero proponemos un sistema de ecuaciones que me permita hallar la solucion:\n",
    "$$2x+y=1$$\n",
    "$$x+2y=0$$\n",
    "Donde  \n",
    "x: quarks up  \n",
    "y: quarks down"
   ]
  },
  {
   "cell_type": "code",
   "execution_count": 19,
   "id": "275f4943",
   "metadata": {},
   "outputs": [
    {
     "name": "stdout",
     "output_type": "stream",
     "text": [
      "Ingrese los coeficientes del sistema de ecuaciones:\n",
      "Numero de variables:2\n",
      "Ecuación 1:\n",
      "Coeficiente de la variable x: 2\n",
      "Coeficiente de la variable y: 1\n",
      "Término independiente: 1\n",
      "Ecuación 2:\n",
      "Coeficiente de la variable x: 1\n",
      "Coeficiente de la variable y: 2\n",
      "Término independiente: 0\n",
      "\n",
      "Matriz inicial:\n",
      "[[2. 1. 1.]\n",
      " [1. 2. 0.]]\n",
      "\n",
      "La solucion es:\n",
      "x = 0.67\n",
      "y = -0.33\n"
     ]
    }
   ],
   "source": [
    "import numpy as np\n",
    "\n",
    "\n",
    "def gauss_eliminacion():\n",
    "    print(\"Ingrese los coeficientes del sistema de ecuaciones:\")\n",
    "    n = int(input(\"Numero de variables:\"))\n",
    "    a = []\n",
    "    b = []\n",
    "\n",
    "    for i in range(n):\n",
    "        ecuacion = []\n",
    "        print(f\"Ecuación {i + 1}:\")\n",
    "        for j in range(n):\n",
    "            coef = float(input(f\"Coeficiente de la variable {chr(120 + j)}: \"))\n",
    "            ecuacion.append(coef)\n",
    "        a.append(ecuacion)\n",
    "        b.append(float(input(\"Término independiente: \")))\n",
    "\n",
    "    a = np.array(a)\n",
    "    b = np.array(b)\n",
    "\n",
    "    print(\"\\nMatriz inicial:\")\n",
    "    matriz_inicial = np.concatenate((a, b.reshape(-1, 1)), axis=1)\n",
    "    print(matriz_inicial)\n",
    "\n",
    "    for k in range(n - 1):\n",
    "        for i in range(k + 1, n):\n",
    "            if matriz_inicial[i, k] != 0.0:\n",
    "                factor = matriz_inicial[i, k] / matriz_inicial[k, k]\n",
    "                matriz_inicial[i] -= factor * matriz_inicial[k]\n",
    "\n",
    "    x = [0] * n\n",
    "    for i in range(n - 1, -1, -1):\n",
    "        x[i] = (matriz_inicial[i, -1] - np.dot(matriz_inicial[i, i + 1:n], x[i + 1:n])) / matriz_inicial[i, i]\n",
    "\n",
    "    print(\"\\nLa solucion es:\")\n",
    "    for i in range(n):\n",
    "        print(f\"{chr(120 + i)} = {x[i]:.2f}\")\n",
    "\n",
    "\n",
    "if __name__ == \"__main__\":\n",
    "    gauss_eliminacion()"
   ]
  },
  {
   "cell_type": "markdown",
   "id": "5a4e6561",
   "metadata": {},
   "source": [
    "\n",
    "Meteoros\n",
    "\n",
    "El Centro de Investigación 1 examina la cantidad de meteoros que entran a la atmósfera. Con su equipo de recopilación de datos durante 8 horas captó 95kg de meteoros, por fuentes externas sabemos que fueron de 4 distintas masas (1kg, 5kg, 10kg y 20kg). La cantidad total de meteoros fue de 26. Otro centro de investigación captó que la cantidad de meteoros de 5kg es 4 veces la cantidad de meteoros de 10kg, y el número de meteoros de 1kg es 1 menos que el doble de la cantidad de meteoros de 5kg. Después use matrices para encontrar el número asociado a cada masa de meteoros.\n"
   ]
  },
  {
   "cell_type": "markdown",
   "id": "79b0c89d",
   "metadata": {},
   "source": [
    "Para resolver este problema proponemos el sistema de ecuaciones \n",
    "$$x+y+z+w=26$$\n",
    "$$x+5y+10z+20w=95$$\n",
    "$$y-4z=0$$\n",
    "$$x-2y=−1$$\n",
    "\n",
    "Donde  \n",
    "x: Meteoros de 1kg.  \n",
    "y: Meteoros de 5 kg.  \n",
    "z: Meteoros de 10 kg.  \n",
    "w: Meteoros de 20 kg."
   ]
  },
  {
   "cell_type": "code",
   "execution_count": 20,
   "id": "86c73ddb",
   "metadata": {},
   "outputs": [
    {
     "name": "stdout",
     "output_type": "stream",
     "text": [
      "Ingrese los coeficientes del sistema de ecuaciones:\n",
      "Numero de variables:4\n",
      "Ecuación 1:\n",
      "Coeficiente de la variable X1: 1\n",
      "Coeficiente de la variable X2: 1\n",
      "Coeficiente de la variable X3: 1\n",
      "Coeficiente de la variable X4: 1\n",
      "Término independiente: 26\n",
      "Ecuación 2:\n",
      "Coeficiente de la variable X1: 1\n",
      "Coeficiente de la variable X2: 5\n",
      "Coeficiente de la variable X3: 10\n",
      "Coeficiente de la variable X4: 20\n",
      "Término independiente: 95\n",
      "Ecuación 3:\n",
      "Coeficiente de la variable X1: 0\n",
      "Coeficiente de la variable X2: 1\n",
      "Coeficiente de la variable X3: -4\n",
      "Coeficiente de la variable X4: 0\n",
      "Término independiente: 0\n",
      "Ecuación 4:\n",
      "Coeficiente de la variable X1: 1\n",
      "Coeficiente de la variable X2: -2\n",
      "Coeficiente de la variable X3: 0\n",
      "Coeficiente de la variable X4: 0\n",
      "Término independiente: -1\n",
      "\n",
      "Matriz inicial:\n",
      "[[ 1.  1.  1.  1. 26.]\n",
      " [ 1.  5. 10. 20. 95.]\n",
      " [ 0.  1. -4.  0.  0.]\n",
      " [ 1. -2.  0.  0. -1.]]\n",
      "\n",
      "La solucion es:\n",
      "X1 = 15.00\n",
      "X2 = 8.00\n",
      "X3 = 2.00\n",
      "X4 = 1.00\n"
     ]
    }
   ],
   "source": [
    "import numpy as np\n",
    "\n",
    "\n",
    "def gauss_eliminacion():\n",
    "    print(\"Ingrese los coeficientes del sistema de ecuaciones:\")\n",
    "    n = int(input(\"Numero de variables:\"))\n",
    "    a = []\n",
    "    b = []\n",
    "\n",
    "    for i in range(n):\n",
    "        ecuacion = []\n",
    "        print(f\"Ecuación {i + 1}:\")\n",
    "        for j in range(n):\n",
    "            coef = float(input(f\"Coeficiente de la variable X{j + 1}: \"))\n",
    "            ecuacion.append(coef)\n",
    "        a.append(ecuacion)\n",
    "        b.append(float(input(\"Término independiente: \")))\n",
    "\n",
    "    a = np.array(a)\n",
    "    b = np.array(b)\n",
    "\n",
    "    print(\"\\nMatriz inicial:\")\n",
    "    matriz_inicial = np.concatenate((a, b.reshape(-1, 1)), axis=1)\n",
    "    print(matriz_inicial)\n",
    "\n",
    "    for k in range(n - 1):\n",
    "        for i in range(k + 1, n):\n",
    "            if matriz_inicial[i, k] != 0.0:\n",
    "                factor = matriz_inicial[i, k] / matriz_inicial[k, k]\n",
    "                matriz_inicial[i] -= factor * matriz_inicial[k]\n",
    "\n",
    "    x = [0] * n\n",
    "    for i in range(n - 1, -1, -1):\n",
    "        x[i] = (matriz_inicial[i, -1] - np.dot(matriz_inicial[i, i + 1:n], x[i + 1:n])) / matriz_inicial[i, i]\n",
    "\n",
    "    print(\"\\nLa solucion es:\")\n",
    "    for i in range(n):\n",
    "        print(f\"X{i + 1} = {x[i]:.2f}\")\n",
    "\n",
    "\n",
    "if __name__ == \"__main__\":\n",
    "    gauss_eliminacion()"
   ]
  },
  {
   "cell_type": "code",
   "execution_count": null,
   "id": "4d8833e7",
   "metadata": {},
   "outputs": [],
   "source": []
  },
  {
   "cell_type": "code",
   "execution_count": null,
   "id": "c464c073",
   "metadata": {},
   "outputs": [],
   "source": []
  }
 ],
 "metadata": {
  "kernelspec": {
   "display_name": "Python 3 (ipykernel)",
   "language": "python",
   "name": "python3"
  },
  "language_info": {
   "codemirror_mode": {
    "name": "ipython",
    "version": 3
   },
   "file_extension": ".py",
   "mimetype": "text/x-python",
   "name": "python",
   "nbconvert_exporter": "python",
   "pygments_lexer": "ipython3",
   "version": "3.9.12"
  }
 },
 "nbformat": 4,
 "nbformat_minor": 5
}
