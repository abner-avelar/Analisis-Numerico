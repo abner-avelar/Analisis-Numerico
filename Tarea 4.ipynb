{
 "cells": [
  {
   "cell_type": "markdown",
   "id": "386edb53",
   "metadata": {},
   "source": [
    "**4.1**  \n",
    "11.Write a program that computes all the roots of f (x) = 0 in a given interval with\n",
    "the Newton-Raphson method method. Use the functions rootsearch and the Newton-Raphson.\n",
    "$$x sin x + 3 cos x − x = 0 $$\n",
    "in (−6, 6)"
   ]
  },
  {
   "cell_type": "code",
   "execution_count": 14,
   "id": "0802c63e",
   "metadata": {},
   "outputs": [],
   "source": [
    "import sys\n",
    "from math import sin, cos\n",
    "\n",
    "## Modulo Newton-Raphson\n",
    "## raiz = newtonRaphson(f,df,a,b,tol=1.0e-9).\n",
    "## Encuentra la raiz de f(x) = 0 combinando Newton-Raphson\n",
    "## con biseccion. La raiz debe estar en el intervalo (a,b).\n",
    "## Los usuarios definen f(x) y su derivada df(x).\n",
    "def err(string):\n",
    "  print(string)\n",
    "  input('Press return to exit')\n",
    "  sys.exit()\n",
    "\n",
    "def newtonRaphson(f,df,a,b,tol=1.0e-9):\n",
    "  from numpy import sign\n",
    "  fa = f(a)\n",
    "  if fa == 0.0: return a\n",
    "  fb = f(b)\n",
    "  if fb == 0.0: return b\n",
    "  if sign(fa) == sign(fb): err('La raiz no esta en el intervalo')\n",
    "  x = 0.5*(a + b)\n",
    "  for i in range(30):\n",
    "    ###print(i)###\n",
    "    fx = f(x)\n",
    "    if fx == 0.0: return x \n",
    "    if sign(fa) != sign(fx): b = x # Haz el intervalo mas pequeño\n",
    "    else: a = x\n",
    "    dfx = df(x)  \n",
    "    try: dx = -fx/dfx # Trata un paso con la expresion de Delta x\n",
    "    except ZeroDivisionError: dx = b - a # Si division diverge, intervalo afuera\n",
    "    x = x + dx # avanza en x\n",
    "    if (b - x)*(x - a) < 0.0: # Si el resultado esta fuera, usa biseccion\n",
    "      dx = 0.5*(b - a)\n",
    "      x = a + dx \n",
    "    if abs(dx) < tol*max(abs(b),1.0): return x # Checa la convergencia y sal\n",
    "  print('Too many iterations in Newton-Raphson')\n"
   ]
  },
  {
   "cell_type": "code",
   "execution_count": 13,
   "id": "6ba42d65",
   "metadata": {},
   "outputs": [
    {
     "name": "stdout",
     "output_type": "stream",
     "text": [
      "Raíz = 1.5707963267948966\n"
     ]
    }
   ],
   "source": [
    "def f(x): return x*sin(x) + 3*cos(x) - x\n",
    "def df(x): return x*cos(x) - 2*sin(x) - 1\n",
    "a = -6\n",
    "b = 6\n",
    "root = newtonRaphson(f, df, a, b)\n",
    "print('Raíz =', root)"
   ]
  },
  {
   "cell_type": "markdown",
   "id": "923cfb5e",
   "metadata": {},
   "source": [
    "19.The speed v of a Saturn V rocket in vertical flight near the surface of earth can be approximated by\n",
    "$$ v = u \\ln \\left( \\frac{M_0}{M_0 - mt} \\right) - gt $$\n",
    "\n",
    "velocity of exhaust relative to the rocket: $$ u = 2 510 m/s $$\n",
    "\n",
    "mass of rocket at liftoff: $$ M_0 = 2.8 × 10 6 kg $$\n",
    "\n",
    "rate of fuel consumption: $$ m = 13.3 × 10 3 kg/s $$\n",
    "\n",
    "gravitational acceleration: $$ g = 9.81 m/s2 $$\n",
    "\n",
    "time measured from liftoff: $$ t $$\n",
    "\n",
    "Determine the time when the rocket reaches the speed of sound (335 m/s)."
   ]
  },
  {
   "cell_type": "code",
   "execution_count": 15,
   "id": "12ddab19",
   "metadata": {},
   "outputs": [
    {
     "name": "stdout",
     "output_type": "stream",
     "text": [
      "Raíz = 70.87797226384282\n"
     ]
    }
   ],
   "source": [
    "import sys\n",
    "from math import log\n",
    "\n",
    "# Constantes definidas\n",
    "u = 2510  # m/s\n",
    "M = 2.8e6  # kg\n",
    "m = 13.3e3  # kg/s\n",
    "g = 9.81  # m/s^2\n",
    "v = 335  # m/s (velocidad del sonido)\n",
    "\n",
    "def f(t):\n",
    "    # Ecuación: u * ln(M / (M - m * t)) - g * t - v = 0\n",
    "    return u * log(M / (M - m * t)) - g * t - v\n",
    "\n",
    "def df(t):\n",
    "    # Derivada de la función con respecto al tiempo t\n",
    "    return -u * m / (M - m * t) - g\n",
    "\n",
    "# Intervalo de búsqueda (esto es algo que puedes ajustar más tarde)\n",
    "a = 50\n",
    "b = 80\n",
    "root = newtonRaphson(f, df, a, b)\n",
    "print('Raíz =', root)"
   ]
  },
  {
   "cell_type": "markdown",
   "id": "2ce03842",
   "metadata": {},
   "source": [
    "**5.1**  \n",
    "9.Use the data in the table to compute f ′(0.2) as accurately: as possible:\n",
    "\\begin{array}{|c|c|}\n",
    "\\hline\n",
    "x & f(x) \\\\\n",
    "\\hline\n",
    "0.0 & 0.000000 \\\\\n",
    "0.1 & 0.078348 \\\\\n",
    "0.2 & 0.138910 \\\\\n",
    "0.3 & 0.192916 \\\\\n",
    "0.4 & 0.244981 \\\\\n",
    "\\hline\n",
    "\\end{array}\n"
   ]
  },
  {
   "cell_type": "code",
   "execution_count": 16,
   "id": "32a4feec",
   "metadata": {},
   "outputs": [
    {
     "name": "stdout",
     "output_type": "stream",
     "text": [
      "f'(0.2) ≈ 0.57284\n",
      "\n"
     ]
    }
   ],
   "source": [
    "x = [0.0, 0.1, 0.2, 0.3, 0.4]\n",
    "fx = [0.000000, 0.078348, 0.138910, 0.192916, 0.244981]\n",
    "h = 0.1 #ya que la diferencia entre nuestras x es de 0.1\n",
    "#(x + h) = 0.2 + 0.1 = 0.3, que está en la posición 3\n",
    "#(x - h) = 0.2 - 0.1 = 0.1, qu está en la posición 1\n",
    "dfx = (fx[3] - fx[1]) / (2 * h)\n",
    "print(\"f'(0.2) ≈\", dfx)\n",
    "print()"
   ]
  },
  {
   "cell_type": "code",
   "execution_count": 25,
   "id": "5cccb7d0",
   "metadata": {},
   "outputs": [],
   "source": [
    "def derivada_centrada(x_vals, f_vals, x):\n",
    "    i = x_vals.index(x)\n",
    "    h = x_vals[i+1] - x_vals[i]\n",
    "    return (f_vals[i+1] - f_vals[i-1]) / (2*h)"
   ]
  },
  {
   "cell_type": "code",
   "execution_count": 26,
   "id": "8159fa42",
   "metadata": {},
   "outputs": [
    {
     "name": "stdout",
     "output_type": "stream",
     "text": [
      "Aproximación centrada:       0.572840\n"
     ]
    }
   ],
   "source": [
    "x_vals = [0.0, 0.1, 0.2, 0.3, 0.4]\n",
    "f_vals = [0.000000, 0.078348, 0.138910, 0.192916, 0.244981]\n",
    "x = 0.2\n",
    "dc = derivada_centrada(x_vals, f_vals, x)\n",
    "print(f\"Aproximación centrada:       {dc:.6f}\")"
   ]
  },
  {
   "cell_type": "markdown",
   "id": "0e9732cb",
   "metadata": {},
   "source": [
    "10.Using five significant figures in the computations, determine $d(sin x)/dx$ at $x =$\n",
    "0.8 from (a) the first forward difference approximation and (b) the first central\n",
    "difference approximation. In each case, use h that gives the most accurate result\n",
    "(this requires experimentation)."
   ]
  },
  {
   "cell_type": "code",
   "execution_count": 39,
   "id": "42f7e97c",
   "metadata": {},
   "outputs": [
    {
     "name": "stdout",
     "output_type": "stream",
     "text": [
      "Aproximación forward: 0.693108347061977\n",
      "Aproximación central: 0.6966950976267372\n",
      "Error forward: 0.0035983622851883945\n",
      "Error central: 1.1611720428184036e-05\n"
     ]
    }
   ],
   "source": [
    "from math import cos\n",
    "\n",
    "def df_forward_mejorada(x, h, f, n):\n",
    "    return (-3*f(x,n) + 4*f(x+h,n) - f(x+2*h,n)) / (2*h)\n",
    "\n",
    "\n",
    "def df_central(x, h, f): \n",
    "    return (f(x + h) - f(x - h)) / (2 * h)\n",
    "\n",
    "from math import *\n",
    "\n",
    "def f(x): \n",
    "    return sin(x)\n",
    "x = 0.8\n",
    "h = 0.01\n",
    "print(\"Aproximación forward:\", df_forward(x, h, f))\n",
    "print(\"Aproximación central:\", df_central(x, h, f))\n",
    "\n",
    "#para ver cual es mas exacta\n",
    "print(\"Error forward:\", abs(df_forward(x, h, f) - cos(x)))\n",
    "print(\"Error central:\", abs(df_central(x, h, f) - cos(x)))\n"
   ]
  },
  {
   "cell_type": "markdown",
   "id": "cce8551f",
   "metadata": {},
   "source": [
    "**6.1**\n",
    "1.Use the recursive trapezoidal rule to evaluate ∫ π/4\n",
    "0 ln(1 + tan x)dx. Explain the\n",
    "results"
   ]
  },
  {
   "cell_type": "code",
   "execution_count": 40,
   "id": "77a58154",
   "metadata": {},
   "outputs": [],
   "source": [
    "'''\n",
    "Modulo regla trapezoidal recursiva\n",
    "\n",
    "Inew = trapecio_recursiva(f,a,b,Iold,k).\n",
    "Iold = Integral de f(x) de x = a hasta b calculada\n",
    "con la regla trapezoidal recursiva con 2ˆ(k-1) paneles.\n",
    "Inew = la misma integral calculada con 2ˆk paneles.\n",
    "'''\n",
    "def trapecio_recursiva(f,a,b,Iold,k):\n",
    "  if k == 1: Inew = (f(a) + f(b))*(b - a)/2.0\n",
    "  else:\n",
    "    n = 2**(k -2 ) # numero de nuevos puntos\n",
    "    h = (b - a)/n # espaciamiento de nuevos puntos\n",
    "    x = a + h/2.0\n",
    "    sum = 0.0\n",
    "    for i in range(n):\n",
    "      sum = sum + f(x)\n",
    "      x = x + h\n",
    "      Inew = (Iold + h*sum)/2.0\n",
    "  return Inew\n"
   ]
  },
  {
   "cell_type": "code",
   "execution_count": 41,
   "id": "b4356024",
   "metadata": {},
   "outputs": [
    {
     "name": "stdout",
     "output_type": "stream",
     "text": [
      "Integral aproximada = 0.2721982612879502\n",
      "Número de paneles = 2\n"
     ]
    }
   ],
   "source": [
    "import math\n",
    "\n",
    "def f(x): \n",
    "    return math.log(1 + math.tan(x))\n",
    "Iold = 0.0\n",
    "for k in range(1, 21):\n",
    "    Inew = trapecio_recursiva(f, 0.0, math.pi / 4, Iold, k)\n",
    "    if (k > 1) and (abs(Inew - Iold) < 1.0e-6):\n",
    "        break\n",
    "    Iold = Inew\n",
    "\n",
    "print('Integral aproximada =', Inew)\n",
    "print('Número de paneles =', 2**(k - 1))\n"
   ]
  },
  {
   "cell_type": "code",
   "execution_count": null,
   "id": "63c45a59",
   "metadata": {},
   "outputs": [],
   "source": []
  }
 ],
 "metadata": {
  "kernelspec": {
   "display_name": "Python 3 (ipykernel)",
   "language": "python",
   "name": "python3"
  },
  "language_info": {
   "codemirror_mode": {
    "name": "ipython",
    "version": 3
   },
   "file_extension": ".py",
   "mimetype": "text/x-python",
   "name": "python",
   "nbconvert_exporter": "python",
   "pygments_lexer": "ipython3",
   "version": "3.9.12"
  }
 },
 "nbformat": 4,
 "nbformat_minor": 5
}
